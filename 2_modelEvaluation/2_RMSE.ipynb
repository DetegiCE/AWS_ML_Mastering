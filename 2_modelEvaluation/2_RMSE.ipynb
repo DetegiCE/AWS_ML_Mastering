{
 "cells": [
  {
   "cell_type": "code",
   "execution_count": 2,
   "metadata": {},
   "outputs": [],
   "source": [
    "from mylib import *\n",
    "from sklearn.datasets import load_boston\n",
    "boston_dataset = load_boston()\n",
    "df_boston_features = pd.DataFrame(data = boston_dataset.data, columns=boston_dataset.feature_names)\n",
    "df_boston_target = pd.DataFrame(data = boston_dataset.target, columns=['price'])\n",
    "\n",
    "from sklearn.model_selection import train_test_split\n",
    "\n",
    "boston_split = train_test_split(df_boston_features, df_boston_target, \n",
    "                              test_size=0.25, random_state=17)\n",
    "df_boston_features_train = boston_split[0]\n",
    "df_boston_features_test = boston_split[1]\n",
    "df_boston_target_train = boston_split[2]\n",
    "df_boston_target_test = boston_split[3]\n",
    "\n",
    "#lin reg model\n",
    "from sklearn.linear_model import LinearRegression\n",
    "linear_regression_model = LinearRegression(fit_intercept=True)\n",
    "linear_regression_model.fit(df_boston_features_train, df_boston_target_train)\n",
    "\n",
    "#dec tree model\n",
    "from sklearn.tree import DecisionTreeRegressor\n",
    "dtree_reg_model = DecisionTreeRegressor(max_depth=10)\n",
    "dtree_reg_model.fit(df_boston_features_train, df_boston_target_train.values.ravel())\n",
    "\n",
    "#prediction\n",
    "lin_reg_prediction = linear_regression_model.predict(df_boston_features_test)\n",
    "dtree_reg_prediction = dtree_reg_model.predict(df_boston_features_test)"
   ]
  },
  {
   "cell_type": "code",
   "execution_count": 3,
   "metadata": {},
   "outputs": [],
   "source": [
    "from sklearn.metrics import mean_squared_error\n",
    "mse_lin_reg_model = mean_squared_error(df_boston_target_test, lin_reg_prediction)\n",
    "mse_dtree_reg_model = mean_squared_error(df_boston_target_test, dtree_reg_prediction)"
   ]
  },
  {
   "cell_type": "code",
   "execution_count": 4,
   "metadata": {},
   "outputs": [],
   "source": [
    "from math import sqrt\n",
    "rmse_linear_reg_model = sqrt(mse_lin_reg_model)\n",
    "rmse_dtree_reg_model = sqrt(mse_dtree_reg_model)"
   ]
  },
  {
   "cell_type": "code",
   "execution_count": 5,
   "metadata": {},
   "outputs": [
    {
     "name": "stdout",
     "output_type": "stream",
     "text": [
      "4.256139223131234 3.6755315297074427\n"
     ]
    }
   ],
   "source": [
    "print(rmse_linear_reg_model, rmse_dtree_reg_model)"
   ]
  },
  {
   "cell_type": "code",
   "execution_count": 6,
   "metadata": {},
   "outputs": [
    {
     "name": "stdout",
     "output_type": "stream",
     "text": [
      "0.7663974484228373 0.8257847230019636\n"
     ]
    }
   ],
   "source": [
    "#r2\n",
    "from sklearn.metrics import r2_score\n",
    "r2_lin_reg_model = r2_score(df_boston_target_test, lin_reg_prediction)\n",
    "r2_dtree_reg_model = r2_score(df_boston_target_test, dtree_reg_prediction)\n",
    "\n",
    "print(r2_lin_reg_model, r2_dtree_reg_model)"
   ]
  },
  {
   "cell_type": "code",
   "execution_count": null,
   "metadata": {},
   "outputs": [],
   "source": []
  }
 ],
 "metadata": {
  "kernelspec": {
   "display_name": "Python 3",
   "language": "python",
   "name": "python3"
  },
  "language_info": {
   "codemirror_mode": {
    "name": "ipython",
    "version": 3
   },
   "file_extension": ".py",
   "mimetype": "text/x-python",
   "name": "python",
   "nbconvert_exporter": "python",
   "pygments_lexer": "ipython3",
   "version": "3.8.2"
  }
 },
 "nbformat": 4,
 "nbformat_minor": 4
}
