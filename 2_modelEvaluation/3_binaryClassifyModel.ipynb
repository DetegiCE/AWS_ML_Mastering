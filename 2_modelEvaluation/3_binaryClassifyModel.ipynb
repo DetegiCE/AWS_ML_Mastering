{
 "cells": [
  {
   "cell_type": "code",
   "execution_count": 2,
   "metadata": {},
   "outputs": [],
   "source": [
    "from mylib import *\n",
    "dia_dataset_file = './diabetes.csv'\n",
    "df_dia = pd.read_csv(dia_dataset_file)\n",
    "df_dia_target = df_dia.loc[:, ['Outcome']]\n",
    "df_dia_features = df_dia.drop(['Outcome'], axis=1)"
   ]
  },
  {
   "cell_type": "code",
   "execution_count": 4,
   "metadata": {},
   "outputs": [],
   "source": [
    "#normalize\n",
    "from sklearn.preprocessing import MinMaxScaler\n",
    "dia_scaler = MinMaxScaler()\n",
    "dia_scaler.fit(df_dia_features)\n",
    "nd_dia_features = dia_scaler.transform(df_dia_features)\n",
    "df_dia_features_normalized = pd.DataFrame(data=nd_dia_features, columns=df_dia_features.columns)"
   ]
  },
  {
   "cell_type": "code",
   "execution_count": 5,
   "metadata": {},
   "outputs": [],
   "source": [
    "#split\n",
    "dia_split = train_test_split(df_dia_features_normalized, df_dia_target,\n",
    "                            test_size=0.25, random_state=17)\n",
    "df_dia_features_train = dia_split[0]\n",
    "df_dia_features_test = dia_split[1]\n",
    "df_dia_target_train = dia_split[2]\n",
    "df_dia_target_test = dia_split[3]"
   ]
  },
  {
   "cell_type": "code",
   "execution_count": 22,
   "metadata": {},
   "outputs": [
    {
     "data": {
      "text/plain": [
       "SVC(C=1, gamma='auto', probability=True)"
      ]
     },
     "execution_count": 22,
     "metadata": {},
     "output_type": "execute_result"
    }
   ],
   "source": [
    "#svm\n",
    "from sklearn.svm import SVC\n",
    "svc_model = SVC(kernel='rbf', C=1, gamma='auto', probability=True)\n",
    "svc_model.fit(df_dia_features_train, df_dia_target_train.values.ravel())"
   ]
  },
  {
   "cell_type": "code",
   "execution_count": 24,
   "metadata": {},
   "outputs": [
    {
     "data": {
      "text/plain": [
       "LogisticRegression(solver='liblinear')"
      ]
     },
     "execution_count": 24,
     "metadata": {},
     "output_type": "execute_result"
    }
   ],
   "source": [
    "#logit reg\n",
    "from sklearn.linear_model import LogisticRegression\n",
    "logit_model = LogisticRegression(penalty='l2', fit_intercept=True, solver='liblinear')\n",
    "logit_model.fit(df_dia_features_train, df_dia_target_train.values.ravel())"
   ]
  },
  {
   "cell_type": "code",
   "execution_count": 26,
   "metadata": {},
   "outputs": [
    {
     "data": {
      "text/plain": [
       "DecisionTreeClassifier(max_depth=4)"
      ]
     },
     "execution_count": 26,
     "metadata": {},
     "output_type": "execute_result"
    }
   ],
   "source": [
    "#dtree\n",
    "from sklearn.tree import DecisionTreeClassifier\n",
    "dtree_model = DecisionTreeClassifier(max_depth=4)\n",
    "dtree_model.fit(df_dia_features_train, df_dia_target_train.values.ravel())"
   ]
  },
  {
   "cell_type": "code",
   "execution_count": 27,
   "metadata": {},
   "outputs": [],
   "source": [
    "#prediction\n",
    "svc_pred = svc_model.predict(df_dia_features_test)\n",
    "logit_pred = logit_model.predict(df_dia_features_test)\n",
    "dtree_pred = dtree_model.predict(df_dia_features_test)"
   ]
  },
  {
   "cell_type": "code",
   "execution_count": 28,
   "metadata": {},
   "outputs": [],
   "source": [
    "#정확하게 예측한 비율로 간단한 지표 계산\n",
    "svc_corr = svc_pred == df_dia_target_test.values.ravel()\n",
    "svc_corr_prec = np.count_nonzero(svc_corr)/svc_pred.size * 100\n",
    "\n",
    "logit_corr = logit_pred == df_dia_target_test.values.ravel()\n",
    "logit_corr_prec = np.count_nonzero(logit_corr)/logit_pred.size * 100\n",
    "\n",
    "dtree_corr = dtree_pred == df_dia_target_test.values.ravel()\n",
    "dtree_corr_prec = np.count_nonzero(dtree_corr)/dtree_pred.size * 100"
   ]
  },
  {
   "cell_type": "code",
   "execution_count": 29,
   "metadata": {},
   "outputs": [
    {
     "name": "stdout",
     "output_type": "stream",
     "text": [
      "73.95833333333334 76.5625 75.52083333333334\n"
     ]
    }
   ],
   "source": [
    "print(svc_corr_prec, logit_corr_prec, dtree_corr_prec)"
   ]
  },
  {
   "cell_type": "code",
   "execution_count": 30,
   "metadata": {},
   "outputs": [],
   "source": [
    "svc_prob = svc_model.predict_proba(df_dia_features_test)\n",
    "logit_prob = logit_model.predict_proba(df_dia_features_test)\n",
    "dtree_prob = dtree_model.predict_proba(df_dia_features_test)"
   ]
  },
  {
   "cell_type": "code",
   "execution_count": 32,
   "metadata": {},
   "outputs": [],
   "source": [
    "#fpr, tpr\n",
    "import sklearn.metrics as metrics\n",
    "svc_fpr, svc_tpr, svc_thres = metrics.roc_curve(df_dia_target_test.values.ravel(),\n",
    "                                               svc_prob[:, 1],\n",
    "                                               pos_label=1,\n",
    "                                               drop_intermediate=False)"
   ]
  },
  {
   "cell_type": "code",
   "execution_count": 33,
   "metadata": {},
   "outputs": [],
   "source": [
    "logit_fpr, logit_tpr, logit_thres = metrics.roc_curve(df_dia_target_test.values.ravel(),\n",
    "                                                     logit_prob[:, 1],\n",
    "                                                     pos_label=1,\n",
    "                                                     drop_intermediate=False)"
   ]
  },
  {
   "cell_type": "code",
   "execution_count": 34,
   "metadata": {},
   "outputs": [],
   "source": [
    "dtree_fpr, dtree_tpr, dtree_thres = metrics.roc_curve(df_dia_target_test.values.ravel(),\n",
    "                                                     dtree_prob[:, 1],\n",
    "                                                     pos_label=1,\n",
    "                                                     drop_intermediate=False)"
   ]
  },
  {
   "cell_type": "code",
   "execution_count": 35,
   "metadata": {},
   "outputs": [
    {
     "data": {
      "image/png": "[encoded data removed]",
      "text/plain": [
       "<Figure size 1296x432 with 3 Axes>"
      ]
     },
     "metadata": {
      "needs_background": "light"
     },
     "output_type": "display_data"
    }
   ],
   "source": [
    "#roc curve\n",
    "fig, axes = plt.subplots(1, 3, figsize=(18, 6))\n",
    "nlst = [[\"ROC Curve: SVC model\", \"ROC Curve: Logit model\", \"ROC Curve: Tree model\"], [svc_fpr, logit_fpr, dtree_fpr],\n",
    "[svc_tpr, logit_tpr, dtree_tpr]]\n",
    "for i in range(0, 3):\n",
    "    axes[i].set_title(nlst[0][i])\n",
    "    axes[i].set_ylabel(\"True Positive Rate\")\n",
    "    axes[i].set_xlabel(\"False Posivite Rate\")\n",
    "    axes[i].plot(nlst[1][i], nlst[2][i])\n",
    "    axes[i].axhline(y=0, color='k')\n",
    "    axes[i].axvline(x=0, color='k')"
   ]
  },
  {
   "cell_type": "code",
   "execution_count": 37,
   "metadata": {},
   "outputs": [
    {
     "name": "stdout",
     "output_type": "stream",
     "text": [
      "0.8452450238621814 0.8467000349202654 0.7846001629612384\n"
     ]
    }
   ],
   "source": [
    "#auc\n",
    "svc_auc = metrics.auc(svc_fpr, svc_tpr)\n",
    "logit_auc = metrics.auc(logit_fpr, logit_tpr)\n",
    "dtree_auc = metrics.auc(dtree_fpr, dtree_tpr)\n",
    "\n",
    "print(svc_auc, logit_auc, dtree_auc)"
   ]
  },
  {
   "cell_type": "code",
   "execution_count": null,
   "metadata": {},
   "outputs": [],
   "source": []
  }
 ],
 "metadata": {
  "kernelspec": {
   "display_name": "Python 3",
   "language": "python",
   "name": "python3"
  },
  "language_info": {
   "codemirror_mode": {
    "name": "ipython",
    "version": 3
   },
   "file_extension": ".py",
   "mimetype": "text/x-python",
   "name": "python",
   "nbconvert_exporter": "python",
   "pygments_lexer": "ipython3",
   "version": "3.8.2"
  }
 },
 "nbformat": 4,
 "nbformat_minor": 4
}
