{
 "cells": [
  {
   "cell_type": "code",
   "execution_count": 1,
   "metadata": {},
   "outputs": [],
   "source": [
    "import os\n",
    "src_path = os.getcwd()"
   ]
  },
  {
   "cell_type": "code",
   "execution_count": 2,
   "metadata": {},
   "outputs": [],
   "source": [
    "#pyspark 세션 생성\n",
    "from pyspark.context import SparkContext\n",
    "from pyspark.sql import SQLContext\n",
    "\n",
    "#로컬 단일머신에서 spark를 실행하기 때문에 local로 지정\n",
    "#spark는 sql과 같은 연산을 이용해 거대한 데이터 테이블을 다루는 dataframe 추상화 이용\n",
    "sc = SparkContext('local', 'test')\n",
    "sql = SQLContext(sc)"
   ]
  },
  {
   "cell_type": "code",
   "execution_count": 3,
   "metadata": {},
   "outputs": [],
   "source": [
    "#원시 테이블을 위한 dataframe 정의\n",
    "from pyspark.sql.functions import lit\n",
    "dem_df = sql.read.text(\"file://\"+src_path+\"/dem.txt\")\n",
    "gop_df = sql.read.text(\"file://\"+src_path+\"/gop.txt\")"
   ]
  },
  {
   "cell_type": "code",
   "execution_count": 6,
   "metadata": {},
   "outputs": [],
   "source": [
    "#두 소스들을 모두 포함하는 corpus_df를 만들고 dem이 1, gop이 0을 가지는 레이블열 추가\n",
    "corpus_df = dem_df.select(\"value\", lit(1).alias(\"label\")).union(gop_df.select(\"value\", lit(0).alias(\"label\")))"
   ]
  },
  {
   "cell_type": "code",
   "execution_count": 8,
   "metadata": {},
   "outputs": [
    {
     "name": "stdout",
     "output_type": "stream",
     "text": [
      "+--------------------+-----+\n",
      "|               value|label|\n",
      "+--------------------+-----+\n",
      "|A very merry Chri...|    1|\n",
      "|Stay safe and pro...|    1|\n",
      "|RT @ossoff: We ca...|    1|\n",
      "|.@JoeBiden and @K...|    1|\n",
      "|RT @KamalaHarris:...|    1|\n",
      "+--------------------+-----+\n",
      "\n"
     ]
    }
   ],
   "source": [
    "corpus_df.select(\"*\").limit(5).show()"
   ]
  },
  {
   "cell_type": "code",
   "execution_count": 9,
   "metadata": {},
   "outputs": [],
   "source": [
    "#데이터를 훈련용과 테스트용으로 나눔\n",
    "train_df, test_df = corpus_df.randomSplit([0.75, 0.25])"
   ]
  },
  {
   "cell_type": "code",
   "execution_count": 11,
   "metadata": {},
   "outputs": [],
   "source": [
    "#파이프라인을 이용한 훈련\n",
    "from pyspark.ml import Pipeline\n",
    "from pyspark.ml.feature import CountVectorizer, Tokenizer, StopWordsRemover\n",
    "\n",
    "tokenizer = Tokenizer(inputCol=\"value\", outputCol=\"words\")\n",
    "stop_words_remover = StopWordsRemover(inputCol=\"words\", outputCol=\"words_cleaned\")\n",
    "vectorizer = CountVectorizer(inputCol=\"words_cleaned\", outputCol=\"features\")\n",
    "\n",
    "#데이터를 정리하는데 필요한 파이프라인 정의\n",
    "cleaning_pipeline = Pipeline(stages=[tokenizer, stop_words_remover, vectorizer])\n",
    "cleaning_pipeline_model = cleaning_pipeline.fit(corpus_df)\n",
    "\n",
    "cleaned_training_df = cleaning_pipeline_model.transform(train_df)\n",
    "cleaned_testing_df = cleaning_pipeline_model.transform(test_df)"
   ]
  },
  {
   "cell_type": "code",
   "execution_count": 13,
   "metadata": {},
   "outputs": [
    {
     "name": "stdout",
     "output_type": "stream",
     "text": [
      "+--------------------+-----+--------------------+--------------------+--------------------+\n",
      "|               value|label|               words|       words_cleaned|            features|\n",
      "+--------------------+-----+--------------------+--------------------+--------------------+\n",
      "|.@DenisMcDonough ...|    1|[.@denismcdonough...|[.@denismcdonough...|(2616,[11,21,50,8...|\n",
      "|.@JanetYellen is ...|    1|[.@janetyellen, i...|[.@janetyellen, o...|(2616,[22,33,61,9...|\n",
      "|.@JoeBiden and @K...|    1|[.@joebiden, and,...|[.@joebiden, @kam...|(2616,[7,15,30,31...|\n",
      "|.@JoeBiden and @K...|    1|[.@joebiden, and,...|[.@joebiden, @kam...|(2616,[3,7,14,30,...|\n",
      "|.@JoeBiden and @K...|    1|[.@joebiden, and,...|[.@joebiden, @kam...|(2616,[4,7,8,29,3...|\n",
      "+--------------------+-----+--------------------+--------------------+--------------------+\n",
      "only showing top 5 rows\n",
      "\n"
     ]
    }
   ],
   "source": [
    "cleaned_training_df.show(n=5)"
   ]
  },
  {
   "cell_type": "code",
   "execution_count": 14,
   "metadata": {},
   "outputs": [],
   "source": [
    "#위 열들을 naive bayes 분류기에 지정하여 모델의 학습\n",
    "from pyspark.ml.classification import NaiveBayes\n",
    "naive_bayes = NaiveBayes(featuresCol=\"features\", labelCol=\"label\")\n",
    "naive_bayes_model = naive_bayes.fit(cleaned_training_df)\n",
    "predictions_df = naive_bayes_model.transform(cleaned_testing_df)"
   ]
  },
  {
   "cell_type": "code",
   "execution_count": 15,
   "metadata": {},
   "outputs": [
    {
     "name": "stdout",
     "output_type": "stream",
     "text": [
      "+--------------------+-----+----------+\n",
      "|            features|label|prediction|\n",
      "+--------------------+-----+----------+\n",
      "|(2616,[22,64,94,2...|    1|       1.0|\n",
      "|(2616,[4,7,10,15,...|    1|       1.0|\n",
      "|(2616,[4,5,7,15,2...|    1|       1.0|\n",
      "+--------------------+-----+----------+\n",
      "\n"
     ]
    }
   ],
   "source": [
    "predictions_df.select(\"features\", \"label\", \"prediction\").limit(3).show()"
   ]
  },
  {
   "cell_type": "code",
   "execution_count": 16,
   "metadata": {},
   "outputs": [
    {
     "data": {
      "text/plain": [
       "0.9396551724137931"
      ]
     },
     "execution_count": 16,
     "metadata": {},
     "output_type": "execute_result"
    }
   ],
   "source": [
    "#정확도 평가\n",
    "from pyspark.ml.evaluation import MulticlassClassificationEvaluator\n",
    "\n",
    "evaluator = MulticlassClassificationEvaluator(labelCol=\"label\",\n",
    "                                             predictionCol=\"prediction\",\n",
    "                                             metricName=\"accuracy\")\n",
    "evaluator.evaluate(predictions_df)"
   ]
  },
  {
   "cell_type": "code",
   "execution_count": null,
   "metadata": {},
   "outputs": [],
   "source": []
  }
 ],
 "metadata": {
  "kernelspec": {
   "display_name": "Python 3",
   "language": "python",
   "name": "python3"
  },
  "language_info": {
   "codemirror_mode": {
    "name": "ipython",
    "version": 3
   },
   "file_extension": ".py",
   "mimetype": "text/x-python",
   "name": "python",
   "nbconvert_exporter": "python",
   "pygments_lexer": "ipython3",
   "version": "3.8.2"
  }
 },
 "nbformat": 4,
 "nbformat_minor": 4
}
