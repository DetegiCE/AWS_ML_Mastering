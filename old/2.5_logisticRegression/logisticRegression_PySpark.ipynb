{
 "cells": [
  {
   "cell_type": "code",
   "execution_count": 1,
   "metadata": {},
   "outputs": [],
   "source": [
    "import os\n",
    "src_path = os.getcwd()"
   ]
  },
  {
   "cell_type": "code",
   "execution_count": 2,
   "metadata": {},
   "outputs": [],
   "source": [
    "from pyspark.context import SparkContext\n",
    "sc = SparkContext('local', 'test')"
   ]
  },
  {
   "cell_type": "code",
   "execution_count": 3,
   "metadata": {},
   "outputs": [],
   "source": [
    "from pyspark.sql import SQLContext\n",
    "sql = SQLContext(sc)"
   ]
  },
  {
   "cell_type": "code",
   "execution_count": 4,
   "metadata": {},
   "outputs": [],
   "source": [
    "from pyspark.sql.functions import lit\n",
    "dem_df = sql.read.text('file://'+src_path+'/dem.txt')\n",
    "gop_df = sql.read.text('file://'+src_path+'/gop.txt')\n",
    "corpus_df = dem_df.select('value', lit(1).alias('label')).union(gop_df.select('value', lit(0).alias('label')))"
   ]
  },
  {
   "cell_type": "code",
   "execution_count": 5,
   "metadata": {},
   "outputs": [],
   "source": [
    "train_df, test_df = corpus_df.randomSplit([0.75, 0.25])"
   ]
  },
  {
   "cell_type": "code",
   "execution_count": 6,
   "metadata": {},
   "outputs": [
    {
     "name": "stdout",
     "output_type": "stream",
     "text": [
      "+--------------------+-----+\n",
      "|               value|label|\n",
      "+--------------------+-----+\n",
      "|A very merry Chri...|    1|\n",
      "|Stay safe and pro...|    1|\n",
      "|RT @ossoff: We ca...|    1|\n",
      "+--------------------+-----+\n",
      "\n"
     ]
    }
   ],
   "source": [
    "corpus_df.select(\"*\").limit(3).show()"
   ]
  },
  {
   "cell_type": "code",
   "execution_count": 7,
   "metadata": {},
   "outputs": [],
   "source": [
    "from pyspark.ml.feature import StopWordsRemover\n",
    "stop_words = [word.strip() for word in open(src_path + '/stop_words.txt').readlines()]"
   ]
  },
  {
   "cell_type": "code",
   "execution_count": 9,
   "metadata": {},
   "outputs": [],
   "source": [
    "from pyspark.ml.classification import LogisticRegression\n",
    "from pyspark.ml.feature import CountVectorizer, Tokenizer, StopWordsRemover\n",
    "\n",
    "tokenizer = Tokenizer(inputCol='value', outputCol='words')\n",
    "stop_words_remover = StopWordsRemover(inputCol='words', outputCol='words_cleaned')\n",
    "vectorizer = CountVectorizer(inputCol='words_cleaned', outputCol='features')\n",
    "logistic_regression = LogisticRegression(featuresCol='features', labelCol='label')"
   ]
  },
  {
   "cell_type": "code",
   "execution_count": 10,
   "metadata": {},
   "outputs": [
    {
     "name": "stdout",
     "output_type": "stream",
     "text": [
      "+--------------------+-----+--------------------+--------------------+--------------------+\n",
      "|               value|label|               words|       words_cleaned|            features|\n",
      "+--------------------+-----+--------------------+--------------------+--------------------+\n",
      "|.@DebHaalandNM ha...|    1|[.@debhaalandnm, ...|[.@debhaalandnm, ...|(2616,[22,64,94,2...|\n",
      "|.@DenisMcDonough ...|    1|[.@denismcdonough...|[.@denismcdonough...|(2616,[11,21,50,8...|\n",
      "|.@JanetYellen is ...|    1|[.@janetyellen, i...|[.@janetyellen, o...|(2616,[22,33,61,9...|\n",
      "|.@JoeBiden and @K...|    1|[.@joebiden, and,...|[.@joebiden, @kam...|(2616,[7,15,30,31...|\n",
      "|.@JoeBiden and @K...|    1|[.@joebiden, and,...|[.@joebiden, @kam...|(2616,[4,7,10,15,...|\n",
      "+--------------------+-----+--------------------+--------------------+--------------------+\n",
      "only showing top 5 rows\n",
      "\n"
     ]
    }
   ],
   "source": [
    "from pyspark.ml import Pipeline\n",
    "cleaning_pipeline = Pipeline(stages=[tokenizer, stop_words_remover, vectorizer])\n",
    "cleaning_pipeline_model = cleaning_pipeline.fit(corpus_df)\n",
    "\n",
    "cleaned_training_df = cleaning_pipeline_model.transform(train_df)\n",
    "cleaned_testing_df = cleaning_pipeline_model.transform(test_df)\n",
    "\n",
    "cleaned_training_df.show(n=5)"
   ]
  },
  {
   "cell_type": "code",
   "execution_count": 12,
   "metadata": {},
   "outputs": [
    {
     "name": "stdout",
     "output_type": "stream",
     "text": [
      "+--------------------+-----+----------+\n",
      "|            features|label|prediction|\n",
      "+--------------------+-----+----------+\n",
      "|(2616,[4,7,8,29,3...|    1|       1.0|\n",
      "|(2616,[7,8,30,50,...|    1|       1.0|\n",
      "|(2616,[7,30,42,44...|    1|       1.0|\n",
      "+--------------------+-----+----------+\n",
      "\n"
     ]
    }
   ],
   "source": [
    "logistic_model = logistic_regression.fit(cleaned_training_df)\n",
    "predictions_df = logistic_model.transform(cleaned_testing_df)\n",
    "predictions_df.select('features', 'label', 'prediction').limit(3).show()"
   ]
  },
  {
   "cell_type": "code",
   "execution_count": 13,
   "metadata": {},
   "outputs": [
    {
     "data": {
      "text/plain": [
       "0.9247311827956989"
      ]
     },
     "execution_count": 13,
     "metadata": {},
     "output_type": "execute_result"
    }
   ],
   "source": [
    "from pyspark.ml.evaluation import MulticlassClassificationEvaluator\n",
    "\n",
    "evaluator = MulticlassClassificationEvaluator(labelCol='label',\n",
    "                                              predictionCol='prediction',\n",
    "                                              metricName='accuracy')\n",
    "evaluator.evaluate(predictions_df)"
   ]
  },
  {
   "cell_type": "code",
   "execution_count": null,
   "metadata": {},
   "outputs": [],
   "source": []
  }
 ],
 "metadata": {
  "kernelspec": {
   "display_name": "Python 3",
   "language": "python",
   "name": "python3"
  },
  "language_info": {
   "codemirror_mode": {
    "name": "ipython",
    "version": 3
   },
   "file_extension": ".py",
   "mimetype": "text/x-python",
   "name": "python",
   "nbconvert_exporter": "python",
   "pygments_lexer": "ipython3",
   "version": "3.8.2"
  }
 },
 "nbformat": 4,
 "nbformat_minor": 4
}
