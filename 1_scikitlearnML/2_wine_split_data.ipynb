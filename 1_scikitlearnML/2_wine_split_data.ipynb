{
 "cells": [
  {
   "cell_type": "code",
   "execution_count": 3,
   "metadata": {},
   "outputs": [],
   "source": [
    "import numpy as np\n",
    "import pandas as pd\n",
    "import matplotlib.pyplot as plt\n",
    "from sklearn.datasets import load_wine\n",
    "from sklearn.model_selection import train_test_split\n",
    "wine_dataset = load_wine()\n",
    "df_wine_features = pd.DataFrame(data = wine_dataset.data, columns = wine_dataset.feature_names)\n",
    "df_wine_target = pd.DataFrame(data = wine_dataset.target, columns = ['class'])"
   ]
  },
  {
   "cell_type": "code",
   "execution_count": 5,
   "metadata": {},
   "outputs": [],
   "source": [
    "wines_split = train_test_split(df_wine_features, df_wine_target,\n",
    "                              test_size=0.25, random_state=17)\n",
    "df_wine_features_train = wines_split[0]\n",
    "df_wine_features_test = wines_split[1]\n",
    "df_wine_target_train = wines_split[2]\n",
    "df_wine_target_test = wines_split[3]"
   ]
  },
  {
   "cell_type": "code",
   "execution_count": 6,
   "metadata": {},
   "outputs": [],
   "source": [
    "wines_split_strat = train_test_split(df_wine_features, df_wine_target,\n",
    "                                    test_size=0.25, random_state=17, stratify=df_wine_target)\n",
    "df_wine_features_train2 = wines_split_strat[0]\n",
    "df_wine_features_test2 = wines_split_strat[1]\n",
    "df_wine_target_train2 = wines_split_strat[2]\n",
    "df_wine_target_test2 = wines_split_strat[3]"
   ]
  },
  {
   "cell_type": "code",
   "execution_count": 8,
   "metadata": {},
   "outputs": [
    {
     "data": {
      "text/plain": [
       "<AxesSubplot:title={'center':'df_wine_target_train2'}>"
      ]
     },
     "execution_count": 8,
     "metadata": {},
     "output_type": "execute_result"
    },
    {
     "data": {
      "image/png": "[encoded data removed]",
      "text/plain": [
       "<Figure size 1080x360 with 3 Axes>"
      ]
     },
     "metadata": {
      "needs_background": "light"
     },
     "output_type": "display_data"
    }
   ],
   "source": [
    "fig, axes = plt.subplots(1, 3, figsize=(15, 5))\n",
    "axes[0].set_title('df_wine_target')\n",
    "df_wine_target['class'].value_counts(dropna=False).plot.bar(grid=True, ax=axes[0])\n",
    "axes[1].set_title('df_wine_target_train')\n",
    "df_wine_target_train['class'].value_counts(dropna=False).plot.bar(grid=True, ax=axes[1])\n",
    "axes[2].set_title('df_wine_target_train2')\n",
    "df_wine_target_train2['class'].value_counts(dropna=False).plot.bar(grid=True, ax=axes[2])"
   ]
  },
  {
   "cell_type": "code",
   "execution_count": null,
   "metadata": {},
   "outputs": [],
   "source": []
  }
 ],
 "metadata": {
  "kernelspec": {
   "display_name": "Python 3",
   "language": "python",
   "name": "python3"
  },
  "language_info": {
   "codemirror_mode": {
    "name": "ipython",
    "version": 3
   },
   "file_extension": ".py",
   "mimetype": "text/x-python",
   "name": "python",
   "nbconvert_exporter": "python",
   "pygments_lexer": "ipython3",
   "version": "3.8.5"
  }
 },
 "nbformat": 4,
 "nbformat_minor": 4
}
