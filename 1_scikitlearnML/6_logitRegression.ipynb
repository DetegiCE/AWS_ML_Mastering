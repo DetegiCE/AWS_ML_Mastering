{
 "cells": [
  {
   "cell_type": "code",
   "execution_count": 2,
   "metadata": {},
   "outputs": [],
   "source": [
    "from mylibrary import *\n",
    "diabetes_dataset_file = './diabetes.csv'\n",
    "df_diabetes = pd.read_csv(diabetes_dataset_file)\n",
    "df_diabetes_target = df_diabetes.loc[:, ['Outcome']]\n",
    "df_diabetes_features = df_diabetes.drop(['Outcome'], axis=1)"
   ]
  },
  {
   "cell_type": "code",
   "execution_count": 3,
   "metadata": {},
   "outputs": [],
   "source": [
    "#normalize\n",
    "from sklearn.preprocessing import MinMaxScaler\n",
    "diabetes_scaler = MinMaxScaler()\n",
    "diabetes_scaler.fit(df_diabetes_features)\n",
    "nd_diabetes_features = diabetes_scaler.transform(df_diabetes_features)\n",
    "df_diabetes_features_normalized = pd.DataFrame(data=nd_diabetes_features, columns=df_diabetes_features.columns)"
   ]
  },
  {
   "cell_type": "code",
   "execution_count": 4,
   "metadata": {},
   "outputs": [],
   "source": [
    "#split\n",
    "diabetes_split = train_test_split(df_diabetes_features_normalized, df_diabetes_target,\n",
    "                                 test_size=0.25, random_state=17)\n",
    "df_diabetes_features_train = diabetes_split[0]\n",
    "df_diabetes_features_test = diabetes_split[1]\n",
    "df_diabetes_target_train = diabetes_split[2]\n",
    "df_diabetes_target_test = diabetes_split[3]"
   ]
  },
  {
   "cell_type": "code",
   "execution_count": 6,
   "metadata": {},
   "outputs": [
    {
     "data": {
      "text/plain": [
       "LogisticRegression(solver='liblinear')"
      ]
     },
     "execution_count": 6,
     "metadata": {},
     "output_type": "execute_result"
    }
   ],
   "source": [
    "#logit regression\n",
    "from sklearn.linear_model import LogisticRegression\n",
    "logistic_regression_model = LogisticRegression(penalty='l2', fit_intercept=True, solver='liblinear')\n",
    "logistic_regression_model.fit(df_diabetes_features_train, df_diabetes_target_train.values.ravel())"
   ]
  },
  {
   "cell_type": "code",
   "execution_count": 7,
   "metadata": {},
   "outputs": [],
   "source": [
    "logistic_regression_predictions = logistic_regression_model.predict(df_diabetes_features_test)"
   ]
  },
  {
   "cell_type": "code",
   "execution_count": 8,
   "metadata": {},
   "outputs": [
    {
     "name": "stdout",
     "output_type": "stream",
     "text": [
      "[0 1 0 0 0 0 0 1 1 1 1 1 0 0 0 0 1 0 0 0 1 0 0 1 0 0 1 0 1 0 1 0 0 0 0 0 1\n",
      " 0 0 0 0 0 0 1 0 0 1 0 1 0 0 0 0 0 0 1 0 0 0 0 0 0 0 1 0 0 0 0 0 0 1 0 0 0\n",
      " 0 0 0 0 0 0 0 1 0 0 0 1 1 0 0 0 0 0 0 0 0 0 0 0 1 0 0 1 1 1 0 0 1 0 0 1 0\n",
      " 1 0 0 1 0 0 0 0 0 0 0 0 0 0 0 0 0 0 0 0 1 0 0 0 0 0 0 0 0 1 0 0 0 1 0 0 0\n",
      " 0 0 0 1 0 0 0 0 0 0 0 0 0 1 0 0 1 0 0 0 1 0 0 0 1 1 0 0 0 0 0 0 0 0 1 0 1\n",
      " 0 0 0 0 1 0 0]\n"
     ]
    }
   ],
   "source": [
    "print(logistic_regression_predictions)"
   ]
  },
  {
   "cell_type": "code",
   "execution_count": 9,
   "metadata": {},
   "outputs": [],
   "source": [
    "#범주별 확률에 접근\n",
    "logistic_regression_probabilities = logistic_regression_model.predict_proba(df_diabetes_features_test)"
   ]
  },
  {
   "cell_type": "code",
   "execution_count": 10,
   "metadata": {},
   "outputs": [
    {
     "name": "stdout",
     "output_type": "stream",
     "text": [
      "[[0.85694005 0.14305995]\n",
      " [0.37165061 0.62834939]\n",
      " [0.73695232 0.26304768]\n",
      " [0.880803   0.119197  ]\n",
      " [0.70516787 0.29483213]\n",
      " [0.55565012 0.44434988]\n",
      " [0.79759532 0.20240468]\n",
      " [0.41521706 0.58478294]\n",
      " [0.40539318 0.59460682]\n",
      " [0.45727931 0.54272069]\n",
      " [0.36492866 0.63507134]\n",
      " [0.37971139 0.62028861]\n",
      " [0.77569099 0.22430901]\n",
      " [0.58385946 0.41614054]\n",
      " [0.76774197 0.23225803]\n",
      " [0.81174178 0.18825822]\n",
      " [0.48426592 0.51573408]\n",
      " [0.81058485 0.18941515]\n",
      " [0.63841705 0.36158295]\n",
      " [0.64774812 0.35225188]\n",
      " [0.46058037 0.53941963]\n",
      " [0.73207878 0.26792122]\n",
      " [0.86982262 0.13017738]\n",
      " [0.26364759 0.73635241]\n",
      " [0.62668563 0.37331437]\n",
      " [0.77056865 0.22943135]\n",
      " [0.28582594 0.71417406]\n",
      " [0.91957668 0.08042332]\n",
      " [0.49911929 0.50088071]\n",
      " [0.67216545 0.32783455]\n",
      " [0.37647145 0.62352855]\n",
      " [0.67616386 0.32383614]\n",
      " [0.83388024 0.16611976]\n",
      " [0.83247743 0.16752257]\n",
      " [0.70948957 0.29051043]\n",
      " [0.88923481 0.11076519]\n",
      " [0.36769165 0.63230835]\n",
      " [0.64198316 0.35801684]\n",
      " [0.86469324 0.13530676]\n",
      " [0.59910864 0.40089136]\n",
      " [0.8637033  0.1362967 ]\n",
      " [0.87049564 0.12950436]\n",
      " [0.7359849  0.2640151 ]\n",
      " [0.21361338 0.78638662]\n",
      " [0.8821586  0.1178414 ]\n",
      " [0.68177974 0.31822026]\n",
      " [0.40753351 0.59246649]\n",
      " [0.64041839 0.35958161]\n",
      " [0.4296702  0.5703298 ]\n",
      " [0.53961513 0.46038487]\n",
      " [0.71590757 0.28409243]\n",
      " [0.8620323  0.1379677 ]\n",
      " [0.53886079 0.46113921]\n",
      " [0.65504083 0.34495917]\n",
      " [0.55811977 0.44188023]\n",
      " [0.41152537 0.58847463]\n",
      " [0.68782509 0.31217491]\n",
      " [0.78034315 0.21965685]\n",
      " [0.67123255 0.32876745]\n",
      " [0.80586728 0.19413272]\n",
      " [0.68997311 0.31002689]\n",
      " [0.75395281 0.24604719]\n",
      " [0.80231951 0.19768049]\n",
      " [0.37833512 0.62166488]\n",
      " [0.73344452 0.26655548]\n",
      " [0.82764794 0.17235206]\n",
      " [0.63968411 0.36031589]\n",
      " [0.72128533 0.27871467]\n",
      " [0.55526546 0.44473454]\n",
      " [0.77282944 0.22717056]\n",
      " [0.38321647 0.61678353]\n",
      " [0.77544902 0.22455098]\n",
      " [0.76547031 0.23452969]\n",
      " [0.84039875 0.15960125]\n",
      " [0.8847825  0.1152175 ]\n",
      " [0.54255948 0.45744052]\n",
      " [0.80331116 0.19668884]\n",
      " [0.52197319 0.47802681]\n",
      " [0.57152755 0.42847245]\n",
      " [0.671447   0.328553  ]\n",
      " [0.79777022 0.20222978]\n",
      " [0.27030595 0.72969405]\n",
      " [0.73413381 0.26586619]\n",
      " [0.89184818 0.10815182]\n",
      " [0.60908422 0.39091578]\n",
      " [0.16200049 0.83799951]\n",
      " [0.45364243 0.54635757]\n",
      " [0.76320265 0.23679735]\n",
      " [0.80574908 0.19425092]\n",
      " [0.96603112 0.03396888]\n",
      " [0.82090635 0.17909365]\n",
      " [0.80960302 0.19039698]\n",
      " [0.59936571 0.40063429]\n",
      " [0.80208407 0.19791593]\n",
      " [0.83835201 0.16164799]\n",
      " [0.68539475 0.31460525]\n",
      " [0.73344587 0.26655413]\n",
      " [0.72454665 0.27545335]\n",
      " [0.49687209 0.50312791]\n",
      " [0.77027153 0.22972847]\n",
      " [0.6104017  0.3895983 ]\n",
      " [0.36542262 0.63457738]\n",
      " [0.36674121 0.63325879]\n",
      " [0.35514534 0.64485466]\n",
      " [0.83864816 0.16135184]\n",
      " [0.67410593 0.32589407]\n",
      " [0.32922472 0.67077528]\n",
      " [0.75159618 0.24840382]\n",
      " [0.87248903 0.12751097]\n",
      " [0.31501152 0.68498848]\n",
      " [0.90300213 0.09699787]\n",
      " [0.32387129 0.67612871]\n",
      " [0.75748435 0.24251565]\n",
      " [0.64048309 0.35951691]\n",
      " [0.37306869 0.62693131]\n",
      " [0.64592589 0.35407411]\n",
      " [0.6402124  0.3597876 ]\n",
      " [0.85768609 0.14231391]\n",
      " [0.7996895  0.2003105 ]\n",
      " [0.72996262 0.27003738]\n",
      " [0.79660788 0.20339212]\n",
      " [0.75167151 0.24832849]\n",
      " [0.85464992 0.14535008]\n",
      " [0.68117571 0.31882429]\n",
      " [0.63338855 0.36661145]\n",
      " [0.68893762 0.31106238]\n",
      " [0.81805552 0.18194448]\n",
      " [0.78585687 0.21414313]\n",
      " [0.82293911 0.17706089]\n",
      " [0.760628   0.239372  ]\n",
      " [0.72570486 0.27429514]\n",
      " [0.30492132 0.69507868]\n",
      " [0.80576696 0.19423304]\n",
      " [0.53903079 0.46096921]\n",
      " [0.72239123 0.27760877]\n",
      " [0.54705067 0.45294933]\n",
      " [0.71049506 0.28950494]\n",
      " [0.90420103 0.09579897]\n",
      " [0.73408178 0.26591822]\n",
      " [0.5832696  0.4167304 ]\n",
      " [0.27033835 0.72966165]\n",
      " [0.73268455 0.26731545]\n",
      " [0.52844135 0.47155865]\n",
      " [0.90413372 0.09586628]\n",
      " [0.26741983 0.73258017]\n",
      " [0.92843273 0.07156727]\n",
      " [0.87676157 0.12323843]\n",
      " [0.72245199 0.27754801]\n",
      " [0.70289064 0.29710936]\n",
      " [0.70491312 0.29508688]\n",
      " [0.79196039 0.20803961]\n",
      " [0.33528927 0.66471073]\n",
      " [0.82278542 0.17721458]\n",
      " [0.62882797 0.37117203]\n",
      " [0.80575111 0.19424889]\n",
      " [0.83516906 0.16483094]\n",
      " [0.58595343 0.41404657]\n",
      " [0.60497801 0.39502199]\n",
      " [0.65724016 0.34275984]\n",
      " [0.53145055 0.46854945]\n",
      " [0.85293622 0.14706378]\n",
      " [0.37118926 0.62881074]\n",
      " [0.58161069 0.41838931]\n",
      " [0.56705803 0.43294197]\n",
      " [0.35136211 0.64863789]\n",
      " [0.85393623 0.14606377]\n",
      " [0.56425584 0.43574416]\n",
      " [0.66400949 0.33599051]\n",
      " [0.40420624 0.59579376]\n",
      " [0.67899981 0.32100019]\n",
      " [0.76645586 0.23354414]\n",
      " [0.81214372 0.18785628]\n",
      " [0.46435418 0.53564582]\n",
      " [0.4846516  0.5153484 ]\n",
      " [0.86131104 0.13868896]\n",
      " [0.77818136 0.22181864]\n",
      " [0.79036324 0.20963676]\n",
      " [0.52143044 0.47856956]\n",
      " [0.68016882 0.31983118]\n",
      " [0.7745795  0.2254205 ]\n",
      " [0.50272949 0.49727051]\n",
      " [0.87533263 0.12466737]\n",
      " [0.46897518 0.53102482]\n",
      " [0.52224156 0.47775844]\n",
      " [0.25366319 0.74633681]\n",
      " [0.74139152 0.25860848]\n",
      " [0.66399448 0.33600552]\n",
      " [0.74533084 0.25466916]\n",
      " [0.71607874 0.28392126]\n",
      " [0.41292724 0.58707276]\n",
      " [0.63547121 0.36452879]\n",
      " [0.52728275 0.47271725]]\n"
     ]
    }
   ],
   "source": [
    "print(logistic_regression_probabilities)"
   ]
  },
  {
   "cell_type": "code",
   "execution_count": 11,
   "metadata": {},
   "outputs": [],
   "source": [
    "#임계값 설정하기\n",
    "dfProbabilities = pd.DataFrame(logistic_regression_probabilities[:,0])\n",
    "predictions = dfProbabilities.applymap(lambda x: 0 if x > 0.8 else 1)"
   ]
  },
  {
   "cell_type": "code",
   "execution_count": 12,
   "metadata": {},
   "outputs": [
    {
     "name": "stdout",
     "output_type": "stream",
     "text": [
      "[0 1 1 0 1 1 1 1 1 1 1 1 1 1 1 0 1 0 1 1 1 1 0 1 1 1 1 0 1 1 1 1 0 0 1 0 1\n",
      " 1 0 1 0 0 1 1 0 1 1 1 1 1 1 0 1 1 1 1 1 1 1 0 1 1 0 1 1 0 1 1 1 1 1 1 1 0\n",
      " 0 1 0 1 1 1 1 1 1 0 1 1 1 1 0 0 0 0 1 0 0 1 1 1 1 1 1 1 1 1 0 1 1 1 0 1 0\n",
      " 1 1 1 1 1 1 0 1 1 1 1 0 1 1 1 0 1 0 1 1 1 0 1 1 1 1 0 1 1 1 1 1 0 1 0 0 1\n",
      " 1 1 1 1 0 1 0 0 1 1 1 1 0 1 1 1 1 0 1 1 1 1 1 0 1 1 0 1 1 1 1 1 1 0 1 1 1\n",
      " 1 1 1 1 1 1 1]\n"
     ]
    }
   ],
   "source": [
    "print(predictions.values.ravel())"
   ]
  },
  {
   "cell_type": "code",
   "execution_count": 13,
   "metadata": {},
   "outputs": [
    {
     "name": "stdout",
     "output_type": "stream",
     "text": [
      "[[ 1.48972976  3.4891602  -0.7344297  -0.07461329  0.16776565  1.81409369\n",
      "   1.39383873  1.03554067]]\n"
     ]
    }
   ],
   "source": [
    "print(logistic_regression_model.coef_)"
   ]
  },
  {
   "cell_type": "code",
   "execution_count": 14,
   "metadata": {},
   "outputs": [
    {
     "name": "stdout",
     "output_type": "stream",
     "text": [
      "[-4.06714158]\n"
     ]
    }
   ],
   "source": [
    "print(logistic_regression_model.intercept_)"
   ]
  },
  {
   "cell_type": "markdown",
   "metadata": {},
   "source": [
    "로지스틱회귀는 본래 이진 분류기이지만 목적변수가 2개 이상인 데이터셋에 다중 분류기로도 사용할 수 있음\n",
    "## one-versus-rest 방식 (OVR 방식)\n",
    "- 각각의 범주를 예측하는 모델을 범주의 수만큼 모델을 만들어 분류하는 방식\n",
    "- N개의 범주가 있다면 N개의 모델을 생성하게 되며, 가장 높은 확률값을 예측한 값이 최종 결과값이 됨\n",
    "\n",
    "## one-versus-one 방식 (OVO 방식)\n",
    "- 여러 이진 분류 모델을 생성해 가장 큰 확률을 갖는 범주로 분류하게 됨"
   ]
  },
  {
   "cell_type": "code",
   "execution_count": 15,
   "metadata": {},
   "outputs": [],
   "source": [
    "from sklearn.datasets import load_iris\n",
    "iris_dataset = load_iris()\n",
    "df_iris_features = pd.DataFrame(data = iris_dataset.data, columns=iris_dataset.feature_names)\n",
    "df_iris_target = pd.DataFrame(data=iris_dataset.target, columns=['class'])"
   ]
  },
  {
   "cell_type": "code",
   "execution_count": 16,
   "metadata": {},
   "outputs": [],
   "source": [
    "#normalize\n",
    "from sklearn.preprocessing import MinMaxScaler\n",
    "iris_scaler = MinMaxScaler()\n",
    "iris_scaler.fit(df_iris_features)\n",
    "nd_iris_features = iris_scaler.transform(df_iris_features)\n",
    "df_iris_features_normalized = pd.DataFrame(data=nd_iris_features, columns=df_iris_features.columns)"
   ]
  },
  {
   "cell_type": "code",
   "execution_count": 17,
   "metadata": {},
   "outputs": [],
   "source": [
    "#split\n",
    "iris_split = train_test_split(df_iris_features_normalized, df_iris_target,\n",
    "                             test_size=0.25, random_state=17)\n",
    "df_iris_features_train = iris_split[0]\n",
    "df_iris_features_test = iris_split[1]\n",
    "df_iris_target_train = iris_split[2]\n",
    "df_iris_target_test = iris_split[3]"
   ]
  },
  {
   "cell_type": "code",
   "execution_count": 19,
   "metadata": {},
   "outputs": [
    {
     "data": {
      "text/plain": [
       "OneVsRestClassifier(estimator=LogisticRegression(solver='liblinear'))"
      ]
     },
     "execution_count": 19,
     "metadata": {},
     "output_type": "execute_result"
    }
   ],
   "source": [
    "#OVR and logit regression\n",
    "from sklearn.multiclass import OneVsRestClassifier\n",
    "from sklearn.linear_model import LogisticRegression\n",
    "logit_model = LogisticRegression(penalty='l2', fit_intercept=True, solver='liblinear')\n",
    "ovr_logit_model = OneVsRestClassifier(logit_model)\n",
    "ovr_logit_model.fit(df_iris_features_train, df_iris_target_train.values.ravel())"
   ]
  },
  {
   "cell_type": "code",
   "execution_count": 20,
   "metadata": {},
   "outputs": [],
   "source": [
    "ovr_logit_predictions = ovr_logit_model.predict(df_iris_features_test)"
   ]
  },
  {
   "cell_type": "code",
   "execution_count": 21,
   "metadata": {},
   "outputs": [
    {
     "name": "stdout",
     "output_type": "stream",
     "text": [
      "[0 2 2 1 2 2 2 2 1 2 2 0 1 0 2 0 0 2 2 2 2 0 2 1 2 2 1 1 0 1 0 1 0 0 1 2 1\n",
      " 2]\n"
     ]
    }
   ],
   "source": [
    "print(ovr_logit_predictions)"
   ]
  },
  {
   "cell_type": "code",
   "execution_count": 22,
   "metadata": {},
   "outputs": [
    {
     "name": "stdout",
     "output_type": "stream",
     "text": [
      "[[0.82272514 0.12785864 0.04941622]\n",
      " [0.12044579 0.40056122 0.47899299]\n",
      " [0.02542865 0.32329645 0.6512749 ]\n",
      " [0.18305903 0.42111625 0.39582472]\n",
      " [0.05944138 0.38763397 0.55292465]\n",
      " [0.07236737 0.36312485 0.56450777]\n",
      " [0.16344427 0.37963956 0.45691617]\n",
      " [0.01998424 0.24601841 0.73399734]\n",
      " [0.18950936 0.48395363 0.32653701]\n",
      " [0.03663432 0.40209894 0.56126674]\n",
      " [0.02062532 0.27783051 0.70154417]\n",
      " [0.73577162 0.22066942 0.04355896]\n",
      " [0.15270279 0.42746281 0.41983439]\n",
      " [0.77216659 0.18251154 0.04532187]\n",
      " [0.05309898 0.32231709 0.62458393]\n",
      " [0.815817   0.13825926 0.04592374]\n",
      " [0.73489217 0.22191513 0.0431927 ]\n",
      " [0.04491288 0.36458749 0.59049964]\n",
      " [0.02065056 0.27871118 0.70063826]\n",
      " [0.02127991 0.35388486 0.62483523]\n",
      " [0.07152985 0.41695375 0.5115164 ]\n",
      " [0.7706894  0.18349734 0.04581325]\n",
      " [0.07040028 0.36307885 0.56652087]\n",
      " [0.19267192 0.4727485  0.33457958]\n",
      " [0.15280003 0.38212573 0.46507424]\n",
      " [0.17395557 0.31901921 0.50702523]\n",
      " [0.12736739 0.48820204 0.38443056]\n",
      " [0.13568065 0.44198711 0.42233224]\n",
      " [0.7867313  0.16963785 0.04363084]\n",
      " [0.17115366 0.45770086 0.37114548]\n",
      " [0.74540203 0.20735953 0.04723843]\n",
      " [0.31041971 0.43132172 0.25825857]\n",
      " [0.80839308 0.15516489 0.03644203]\n",
      " [0.80848648 0.13549109 0.05602242]\n",
      " [0.21762134 0.48521286 0.29716579]\n",
      " [0.15584948 0.41625218 0.42789834]\n",
      " [0.19201639 0.40706352 0.4009201 ]\n",
      " [0.03199536 0.34175085 0.62625378]]\n"
     ]
    }
   ],
   "source": [
    "#category probability\n",
    "ovr_logit_probs = ovr_logit_model.predict_proba(df_iris_features_test)\n",
    "print(ovr_logit_probs)"
   ]
  },
  {
   "cell_type": "markdown",
   "metadata": {},
   "source": [
    "## 소프트맥스 함수\n",
    "- 여러 선형회귀 모델로부터 입력을 받아 범주별 확률을 출력할 수 있음"
   ]
  },
  {
   "cell_type": "code",
   "execution_count": null,
   "metadata": {},
   "outputs": [],
   "source": [
    "from sklearn.linear_model import LogisticRegression\n",
    "softmax_logit_model = LogisticRegression(penalty='l2', fit_intercept=True, solver='lbfgs', multi_class='multinomial')"
   ]
  }
 ],
 "metadata": {
  "kernelspec": {
   "display_name": "Python 3",
   "language": "python",
   "name": "python3"
  },
  "language_info": {
   "codemirror_mode": {
    "name": "ipython",
    "version": 3
   },
   "file_extension": ".py",
   "mimetype": "text/x-python",
   "name": "python",
   "nbconvert_exporter": "python",
   "pygments_lexer": "ipython3",
   "version": "3.8.5"
  }
 },
 "nbformat": 4,
 "nbformat_minor": 4
}
