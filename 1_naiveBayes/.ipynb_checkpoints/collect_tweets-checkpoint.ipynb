{
 "cells": [
  {
   "cell_type": "code",
   "execution_count": 2,
   "metadata": {},
   "outputs": [],
   "source": [
    "from twython import Twython"
   ]
  },
  {
   "cell_type": "code",
   "execution_count": 8,
   "metadata": {},
   "outputs": [],
   "source": [
    "import os\n",
    "src_path = os.getcwd()"
   ]
  },
  {
   "cell_type": "code",
   "execution_count": 9,
   "metadata": {},
   "outputs": [],
   "source": [
    "os.environ['TWITTER_API_KEY'] = \"---\"\n",
    "os.environ['TWITTER_API_SECRET_KEY'] = \"---\"\n",
    "os.environ['TWITTER_ACCESS_TOKEN'] = \"---\"\n",
    "os.environ['TWITTER_ACCESS_TOKEN_SECRET'] = \"---\""
   ]
  },
  {
   "cell_type": "code",
   "execution_count": 10,
   "metadata": {},
   "outputs": [],
   "source": [
    "APP_KEY = os.getenv('TWITTER_API_KEY')\n",
    "APP_SECRET = os.getenv('TWITTER_API_SECRET_KEY')\n",
    "OAUTH_TOKEN = os.getenv('TWITTER_ACCESS_TOKEN')\n",
    "OAUTH_TOKEN_SECRET = os.getenv('TWITTER_ACCESS_TOKEN_SECRET')\n",
    "\n",
    "twitter = Twython(APP_KEY, APP_SECRET, OAUTH_TOKEN, OAUTH_TOKEN_SECRET)"
   ]
  },
  {
   "cell_type": "code",
   "execution_count": 11,
   "metadata": {},
   "outputs": [],
   "source": [
    "gop_tweets = [x['full_text'].replace('\\n', ' ') for x in twitter.get_user_timeline(screen_name='GOP', tweet_mode='extended', count=500)]"
   ]
  },
  {
   "cell_type": "code",
   "execution_count": 13,
   "metadata": {},
   "outputs": [],
   "source": [
    "dem_tweets = [x['full_text'].replace('\\n', ' ') for x in twitter.get_user_timeline(screen_name='TheDemocrats', tweet_mode='extended', count=500)]"
   ]
  },
  {
   "cell_type": "code",
   "execution_count": 18,
   "metadata": {},
   "outputs": [],
   "source": [
    "def save_tweets(filename, tweets):\n",
    "    with open(filename, \"wb\") as file:\n",
    "        file.write(\"\\n\".join(tweets).encode('utf-8-sig'))"
   ]
  },
  {
   "cell_type": "code",
   "execution_count": 19,
   "metadata": {},
   "outputs": [],
   "source": [
    "save_tweets(src_path + '/gop.txt', gop_tweets)\n",
    "save_tweets(src_path + '/dem.txt', dem_tweets)"
   ]
  },
  {
   "cell_type": "code",
   "execution_count": null,
   "metadata": {},
   "outputs": [],
   "source": []
  }
 ],
 "metadata": {
  "kernelspec": {
   "display_name": "Python 3",
   "language": "python",
   "name": "python3"
  },
  "language_info": {
   "codemirror_mode": {
    "name": "ipython",
    "version": 3
   },
   "file_extension": ".py",
   "mimetype": "text/x-python",
   "name": "python",
   "nbconvert_exporter": "python",
   "pygments_lexer": "ipython3",
   "version": "3.8.2"
  }
 },
 "nbformat": 4,
 "nbformat_minor": 4
}
